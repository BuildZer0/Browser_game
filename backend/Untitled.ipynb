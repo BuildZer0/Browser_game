{
 "cells": [
  {
   "cell_type": "code",
   "execution_count": 2,
   "metadata": {
    "collapsed": true
   },
   "outputs": [],
   "source": [
    "class Template:\n",
    "    \n",
    "    def __init__(self, status):\n",
    "        self.status = status\n",
    "    \n",
    "    def __str__(self):\n",
    "        return \"Status: {}\".format(self.status)"
   ]
  },
  {
   "cell_type": "code",
   "execution_count": 5,
   "metadata": {},
   "outputs": [
    {
     "name": "stdout",
     "output_type": "stream",
     "text": [
      "Status: ready\n"
     ]
    }
   ],
   "source": [
    "temp1 = Template(status=\"ready\")\n",
    "\n",
    "print(temp1)"
   ]
  },
  {
   "cell_type": "code",
   "execution_count": 8,
   "metadata": {},
   "outputs": [
    {
     "data": {
      "text/plain": [
       "[<__main__.Template at 0x107f18b00>, <__main__.Template at 0x107f18c18>]"
      ]
     },
     "execution_count": 8,
     "metadata": {},
     "output_type": "execute_result"
    }
   ],
   "source": [
    "players = [\n",
    "    Template(\"ready\"),\n",
    "    Template(\"ready\"),\n",
    "    Template(\"standby\")\n",
    "]\n",
    "\n",
    "ready_players = list(filter(lambda x: x.status == \"ready\" ,players))\n",
    "\n",
    "ready_players"
   ]
  }
 ],
 "metadata": {
  "kernelspec": {
   "display_name": "Python 3",
   "language": "python",
   "name": "python3"
  },
  "language_info": {
   "codemirror_mode": {
    "name": "ipython",
    "version": 3
   },
   "file_extension": ".py",
   "mimetype": "text/x-python",
   "name": "python",
   "nbconvert_exporter": "python",
   "pygments_lexer": "ipython3",
   "version": "3.6.3"
  }
 },
 "nbformat": 4,
 "nbformat_minor": 2
}
